{
  "nbformat": 4,
  "nbformat_minor": 0,
  "metadata": {
    "colab": {
      "provenance": [],
      "gpuType": "T4",
      "authorship_tag": "ABX9TyOw4KYoC+pHNUcVGRpmdoU5",
      "include_colab_link": true
    },
    "kernelspec": {
      "name": "python3",
      "display_name": "Python 3"
    },
    "language_info": {
      "name": "python"
    },
    "accelerator": "GPU"
  },
  "cells": [
    {
      "cell_type": "markdown",
      "metadata": {
        "id": "view-in-github",
        "colab_type": "text"
      },
      "source": [
        "<a href=\"https://colab.research.google.com/github/AndresS0103/neural-network-data-warehouse-project/blob/main/ML-Warehouse.ipynb\" target=\"_parent\"><img src=\"https://colab.research.google.com/assets/colab-badge.svg\" alt=\"Open In Colab\"/></a>"
      ]
    },
    {
      "cell_type": "code",
      "execution_count": 8,
      "metadata": {
        "colab": {
          "base_uri": "https://localhost:8080/"
        },
        "id": "tr7joe36eW4L",
        "outputId": "ed18ca21-f83b-4206-9c92-da9a817164e5"
      },
      "outputs": [
        {
          "output_type": "stream",
          "name": "stdout",
          "text": [
            "Epoch 1/15\n"
          ]
        },
        {
          "output_type": "stream",
          "name": "stderr",
          "text": [
            "/usr/local/lib/python3.10/dist-packages/keras/src/layers/core/embedding.py:90: UserWarning: Argument `input_length` is deprecated. Just remove it.\n",
            "  warnings.warn(\n"
          ]
        },
        {
          "output_type": "stream",
          "name": "stdout",
          "text": [
            "\u001b[1m20/20\u001b[0m \u001b[32m━━━━━━━━━━━━━━━━━━━━\u001b[0m\u001b[37m\u001b[0m \u001b[1m2s\u001b[0m 28ms/step - accuracy: 0.4260 - loss: 1.0856 - val_accuracy: 0.4313 - val_loss: 1.0552\n",
            "Epoch 2/15\n",
            "\u001b[1m20/20\u001b[0m \u001b[32m━━━━━━━━━━━━━━━━━━━━\u001b[0m\u001b[37m\u001b[0m \u001b[1m0s\u001b[0m 4ms/step - accuracy: 0.4520 - loss: 1.0582 - val_accuracy: 0.4313 - val_loss: 1.0499\n",
            "Epoch 3/15\n",
            "\u001b[1m20/20\u001b[0m \u001b[32m━━━━━━━━━━━━━━━━━━━━\u001b[0m\u001b[37m\u001b[0m \u001b[1m0s\u001b[0m 4ms/step - accuracy: 0.4242 - loss: 1.0623 - val_accuracy: 0.4313 - val_loss: 1.0366\n",
            "Epoch 4/15\n",
            "\u001b[1m20/20\u001b[0m \u001b[32m━━━━━━━━━━━━━━━━━━━━\u001b[0m\u001b[37m\u001b[0m \u001b[1m0s\u001b[0m 3ms/step - accuracy: 0.4600 - loss: 1.0320 - val_accuracy: 0.4313 - val_loss: 1.0156\n",
            "Epoch 5/15\n",
            "\u001b[1m20/20\u001b[0m \u001b[32m━━━━━━━━━━━━━━━━━━━━\u001b[0m\u001b[37m\u001b[0m \u001b[1m0s\u001b[0m 3ms/step - accuracy: 0.4477 - loss: 1.0116 - val_accuracy: 0.4313 - val_loss: 0.9900\n",
            "Epoch 6/15\n",
            "\u001b[1m20/20\u001b[0m \u001b[32m━━━━━━━━━━━━━━━━━━━━\u001b[0m\u001b[37m\u001b[0m \u001b[1m0s\u001b[0m 4ms/step - accuracy: 0.4665 - loss: 0.9778 - val_accuracy: 0.5000 - val_loss: 0.9505\n",
            "Epoch 7/15\n",
            "\u001b[1m20/20\u001b[0m \u001b[32m━━━━━━━━━━━━━━━━━━━━\u001b[0m\u001b[37m\u001b[0m \u001b[1m0s\u001b[0m 4ms/step - accuracy: 0.5389 - loss: 0.9363 - val_accuracy: 0.5938 - val_loss: 0.8912\n",
            "Epoch 8/15\n",
            "\u001b[1m20/20\u001b[0m \u001b[32m━━━━━━━━━━━━━━━━━━━━\u001b[0m\u001b[37m\u001b[0m \u001b[1m0s\u001b[0m 4ms/step - accuracy: 0.6048 - loss: 0.8795 - val_accuracy: 0.5500 - val_loss: 0.8639\n",
            "Epoch 9/15\n",
            "\u001b[1m20/20\u001b[0m \u001b[32m━━━━━━━━━━━━━━━━━━━━\u001b[0m\u001b[37m\u001b[0m \u001b[1m0s\u001b[0m 4ms/step - accuracy: 0.5978 - loss: 0.8148 - val_accuracy: 0.6500 - val_loss: 0.7650\n",
            "Epoch 10/15\n",
            "\u001b[1m20/20\u001b[0m \u001b[32m━━━━━━━━━━━━━━━━━━━━\u001b[0m\u001b[37m\u001b[0m \u001b[1m0s\u001b[0m 4ms/step - accuracy: 0.6754 - loss: 0.7388 - val_accuracy: 0.6438 - val_loss: 0.7412\n",
            "Epoch 11/15\n",
            "\u001b[1m20/20\u001b[0m \u001b[32m━━━━━━━━━━━━━━━━━━━━\u001b[0m\u001b[37m\u001b[0m \u001b[1m0s\u001b[0m 4ms/step - accuracy: 0.6825 - loss: 0.6959 - val_accuracy: 0.6625 - val_loss: 0.6554\n",
            "Epoch 12/15\n",
            "\u001b[1m20/20\u001b[0m \u001b[32m━━━━━━━━━━━━━━━━━━━━\u001b[0m\u001b[37m\u001b[0m \u001b[1m0s\u001b[0m 3ms/step - accuracy: 0.6690 - loss: 0.6371 - val_accuracy: 0.7375 - val_loss: 0.6011\n",
            "Epoch 13/15\n",
            "\u001b[1m20/20\u001b[0m \u001b[32m━━━━━━━━━━━━━━━━━━━━\u001b[0m\u001b[37m\u001b[0m \u001b[1m0s\u001b[0m 3ms/step - accuracy: 0.7696 - loss: 0.5903 - val_accuracy: 0.7063 - val_loss: 0.5740\n",
            "Epoch 14/15\n",
            "\u001b[1m20/20\u001b[0m \u001b[32m━━━━━━━━━━━━━━━━━━━━\u001b[0m\u001b[37m\u001b[0m \u001b[1m0s\u001b[0m 5ms/step - accuracy: 0.7877 - loss: 0.5369 - val_accuracy: 0.8000 - val_loss: 0.5408\n",
            "Epoch 15/15\n",
            "\u001b[1m20/20\u001b[0m \u001b[32m━━━━━━━━━━━━━━━━━━━━\u001b[0m\u001b[37m\u001b[0m \u001b[1m0s\u001b[0m 3ms/step - accuracy: 0.8184 - loss: 0.5133 - val_accuracy: 0.8000 - val_loss: 0.5141\n",
            "\u001b[1m7/7\u001b[0m \u001b[32m━━━━━━━━━━━━━━━━━━━━\u001b[0m\u001b[37m\u001b[0m \u001b[1m1s\u001b[0m 24ms/step - accuracy: 0.8071 - loss: 0.5189\n",
            "Test Loss: 0.5103931427001953\n",
            "Test Accuracy: 0.8199999928474426\n",
            "\u001b[1m7/7\u001b[0m \u001b[32m━━━━━━━━━━━━━━━━━━━━\u001b[0m\u001b[37m\u001b[0m \u001b[1m0s\u001b[0m 19ms/step\n",
            "              precision    recall  f1-score   support\n",
            "\n",
            "      Barata       0.94      0.86      0.90        73\n",
            "    Moderada       0.73      0.93      0.82        89\n",
            "        Cara       0.90      0.47      0.62        38\n",
            "\n",
            "    accuracy                           0.82       200\n",
            "   macro avg       0.86      0.76      0.78       200\n",
            "weighted avg       0.84      0.82      0.81       200\n",
            "\n"
          ]
        }
      ],
      "source": [
        "import tensorflow as tf\n",
        "from tensorflow.keras.utils import to_categorical\n",
        "from tensorflow.keras.preprocessing.text import Tokenizer\n",
        "from tensorflow.keras.preprocessing.sequence import pad_sequences\n",
        "from sklearn.model_selection import train_test_split\n",
        "from sklearn.metrics import classification_report\n",
        "import pandas as pd\n",
        "\n",
        "# Load the dataset\n",
        "file_path = 'https://docs.google.com/spreadsheets/d/1yhA6DEStLdrOy4ZWppEMynCUgy6XfPBXkY1cG_NQQ4I/export?format=csv'\n",
        "laptop_data = pd.read_csv(file_path)\n",
        "\n",
        "# Verify columns\n",
        "expected_columns = ['Company', 'Product', 'TypeName', 'Ram', 'PrimaryStorageType', 'CPU_model', 'GPU_model', 'Price_euros']\n",
        "missing_columns = [col for col in expected_columns if col not in laptop_data.columns]\n",
        "if missing_columns:\n",
        "    raise ValueError(f\"Missing expected columns: {missing_columns}\")\n",
        "\n",
        "# Define price categories\n",
        "def categorize_price(price):\n",
        "    if price < 700:\n",
        "        return 'Barata'\n",
        "    elif 700 <= price < 1500:\n",
        "        return 'Moderada'\n",
        "    else:\n",
        "        return 'Cara'\n",
        "\n",
        "laptop_data['Price_Category'] = laptop_data['Price_euros'].apply(categorize_price)\n",
        "\n",
        "# Generate textual representation for each laptop\n",
        "laptop_data['Description'] = (\n",
        "    laptop_data['Company'] + \" \" + laptop_data['Product'] + \" \" +\n",
        "    laptop_data['TypeName'] + \", \" + laptop_data['Ram'].astype(str) + \"GB RAM, \" +\n",
        "    laptop_data['PrimaryStorageType'] + \", \" + laptop_data['CPU_model'] + \", \" +\n",
        "    laptop_data['GPU_model']\n",
        ")\n",
        "\n",
        "# Normalize text\n",
        "laptop_data['Description'] = laptop_data['Description'].str.lower().str.replace('[^a-z0-9 ]', '', regex=True)\n",
        "\n",
        "# Split data\n",
        "X = laptop_data['Description']\n",
        "y = laptop_data['Price_Category']\n",
        "\n",
        "# Map categories\n",
        "category_to_id = {'Barata': 0, 'Moderada': 1, 'Cara': 2}\n",
        "y = y.map(category_to_id)\n",
        "y = to_categorical(y, num_classes=3)\n",
        "\n",
        "# Tokenize text\n",
        "tokenizer = Tokenizer(oov_token='<OOV>')\n",
        "tokenizer.fit_on_texts(X)\n",
        "X_seq = tokenizer.texts_to_sequences(X)\n",
        "maxlen = 50\n",
        "X_padded = pad_sequences(X_seq, padding='post', maxlen=maxlen)\n",
        "\n",
        "# Split data\n",
        "X_train, X_test, y_train, y_test = train_test_split(X_padded, y, test_size=0.2, random_state=42)\n",
        "\n",
        "# Define model\n",
        "model = tf.keras.Sequential([\n",
        "    tf.keras.layers.Embedding(input_dim=len(tokenizer.word_index)+1, output_dim=32, input_length=maxlen),\n",
        "    tf.keras.layers.GlobalAveragePooling1D(),\n",
        "    tf.keras.layers.Dense(32, activation='relu'),\n",
        "    tf.keras.layers.Dense(3, activation='softmax')\n",
        "])\n",
        "\n",
        "model.compile(optimizer='adam', loss='categorical_crossentropy', metrics=['accuracy'])\n",
        "\n",
        "# Train model\n",
        "early_stopping = tf.keras.callbacks.EarlyStopping(monitor='val_loss', patience=3, restore_best_weights=True)\n",
        "history = model.fit(X_train, y_train, epochs=15, batch_size=32, validation_split=0.2, callbacks=[early_stopping])\n",
        "\n",
        "# Evaluate model\n",
        "test_loss, test_accuracy = model.evaluate(X_test, y_test)\n",
        "print(f\"Test Loss: {test_loss}\")\n",
        "print(f\"Test Accuracy: {test_accuracy}\")\n",
        "\n",
        "# Classification report\n",
        "y_pred = model.predict(X_test)\n",
        "y_pred_classes = y_pred.argmax(axis=1)\n",
        "y_test_classes = y_test.argmax(axis=1)\n",
        "print(classification_report(y_test_classes, y_pred_classes, target_names=['Barata', 'Moderada', 'Cara']))\n",
        "\n",
        "# Prediction function\n",
        "def predict_laptop(description):\n",
        "    seq = tokenizer.texts_to_sequences([description])\n",
        "    padded = pad_sequences(seq, padding='post', maxlen=maxlen)\n",
        "    pred_prob = model.predict(padded)\n",
        "    category_id = pred_prob.argmax(axis=-1)[0]\n",
        "    id_to_category = {0: 'Barata', 1: 'Moderada', 2: 'Cara'}\n",
        "    return id_to_category[category_id], pred_prob[0]\n",
        "\n",
        "\n",
        "\n"
      ]
    },
    {
      "cell_type": "code",
      "source": [
        "# Example prediction\n",
        "\n",
        "#example_description = \"Razer Blade Pro Gaming, 32GB RAM, SSD, Core i7 7820HK, GeForce GTX 1080\"\n",
        "\n",
        "example_description = \"Asus Vivobook E200HA Netbook, 2GB RAM, Flash Storage, Atom x5-Z8350, HD Graphics 400\"\n",
        "\n",
        "category, probabilities = predict_laptop(example_description)\n",
        "print(f\"Predicted Category: {category}\")\n",
        "print(f\"Probabilities: {probabilities}\")"
      ],
      "metadata": {
        "id": "oOcwOpGz7D9A",
        "outputId": "6f0c5913-7381-4591-8494-9a983fbafa65",
        "colab": {
          "base_uri": "https://localhost:8080/"
        }
      },
      "execution_count": 14,
      "outputs": [
        {
          "output_type": "stream",
          "name": "stdout",
          "text": [
            "\u001b[1m1/1\u001b[0m \u001b[32m━━━━━━━━━━━━━━━━━━━━\u001b[0m\u001b[37m\u001b[0m \u001b[1m0s\u001b[0m 61ms/step\n",
            "Predicted Category: Barata\n",
            "Probabilities: [0.7886081  0.18725556 0.02413639]\n"
          ]
        }
      ]
    }
  ]
}