{
  "nbformat": 4,
  "nbformat_minor": 0,
  "metadata": {
    "colab": {
      "provenance": [],
      "gpuType": "T4",
      "authorship_tag": "ABX9TyN+jfExom0HqelXB5aPIPs5",
      "include_colab_link": true
    },
    "kernelspec": {
      "name": "python3",
      "display_name": "Python 3"
    },
    "language_info": {
      "name": "python"
    },
    "accelerator": "GPU"
  },
  "cells": [
    {
      "cell_type": "markdown",
      "metadata": {
        "id": "view-in-github",
        "colab_type": "text"
      },
      "source": [
        "<a href=\"https://colab.research.google.com/github/AndresS0103/neural-network-data-warehouse-project/blob/main/ML-Warehouse.ipynb\" target=\"_parent\"><img src=\"https://colab.research.google.com/assets/colab-badge.svg\" alt=\"Open In Colab\"/></a>"
      ]
    },
    {
      "cell_type": "code",
      "execution_count": 1,
      "metadata": {
        "colab": {
          "base_uri": "https://localhost:8080/"
        },
        "id": "tr7joe36eW4L",
        "outputId": "8ec54790-f6f4-486a-8794-945ef5c2d3fe"
      },
      "outputs": [
        {
          "output_type": "stream",
          "name": "stderr",
          "text": [
            "/usr/local/lib/python3.10/dist-packages/keras/src/layers/core/embedding.py:90: UserWarning: Argument `input_length` is deprecated. Just remove it.\n",
            "  warnings.warn(\n"
          ]
        },
        {
          "output_type": "stream",
          "name": "stdout",
          "text": [
            "Epoch 1/15\n",
            "\u001b[1m26/26\u001b[0m \u001b[32m━━━━━━━━━━━━━━━━━━━━\u001b[0m\u001b[37m\u001b[0m \u001b[1m5s\u001b[0m 75ms/step - accuracy: 0.4127 - loss: 1.0814 - val_accuracy: 0.4363 - val_loss: 1.0627\n",
            "Epoch 2/15\n",
            "\u001b[1m26/26\u001b[0m \u001b[32m━━━━━━━━━━━━━━━━━━━━\u001b[0m\u001b[37m\u001b[0m \u001b[1m0s\u001b[0m 3ms/step - accuracy: 0.4382 - loss: 1.0549 - val_accuracy: 0.4363 - val_loss: 1.0483\n",
            "Epoch 3/15\n",
            "\u001b[1m26/26\u001b[0m \u001b[32m━━━━━━━━━━━━━━━━━━━━\u001b[0m\u001b[37m\u001b[0m \u001b[1m0s\u001b[0m 3ms/step - accuracy: 0.4450 - loss: 1.0317 - val_accuracy: 0.4363 - val_loss: 1.0247\n",
            "Epoch 4/15\n",
            "\u001b[1m26/26\u001b[0m \u001b[32m━━━━━━━━━━━━━━━━━━━━\u001b[0m\u001b[37m\u001b[0m \u001b[1m0s\u001b[0m 3ms/step - accuracy: 0.4240 - loss: 1.0299 - val_accuracy: 0.4951 - val_loss: 0.9855\n",
            "Epoch 5/15\n",
            "\u001b[1m26/26\u001b[0m \u001b[32m━━━━━━━━━━━━━━━━━━━━\u001b[0m\u001b[37m\u001b[0m \u001b[1m0s\u001b[0m 3ms/step - accuracy: 0.5579 - loss: 0.9553 - val_accuracy: 0.5098 - val_loss: 0.9327\n",
            "Epoch 6/15\n",
            "\u001b[1m26/26\u001b[0m \u001b[32m━━━━━━━━━━━━━━━━━━━━\u001b[0m\u001b[37m\u001b[0m \u001b[1m0s\u001b[0m 4ms/step - accuracy: 0.6034 - loss: 0.8799 - val_accuracy: 0.6176 - val_loss: 0.8479\n",
            "Epoch 7/15\n",
            "\u001b[1m26/26\u001b[0m \u001b[32m━━━━━━━━━━━━━━━━━━━━\u001b[0m\u001b[37m\u001b[0m \u001b[1m0s\u001b[0m 4ms/step - accuracy: 0.6931 - loss: 0.7665 - val_accuracy: 0.6275 - val_loss: 0.7729\n",
            "Epoch 8/15\n",
            "\u001b[1m26/26\u001b[0m \u001b[32m━━━━━━━━━━━━━━━━━━━━\u001b[0m\u001b[37m\u001b[0m \u001b[1m0s\u001b[0m 3ms/step - accuracy: 0.6995 - loss: 0.6842 - val_accuracy: 0.6176 - val_loss: 0.7063\n",
            "Epoch 9/15\n",
            "\u001b[1m26/26\u001b[0m \u001b[32m━━━━━━━━━━━━━━━━━━━━\u001b[0m\u001b[37m\u001b[0m \u001b[1m0s\u001b[0m 3ms/step - accuracy: 0.7074 - loss: 0.6067 - val_accuracy: 0.6961 - val_loss: 0.6667\n",
            "Epoch 10/15\n",
            "\u001b[1m26/26\u001b[0m \u001b[32m━━━━━━━━━━━━━━━━━━━━\u001b[0m\u001b[37m\u001b[0m \u001b[1m0s\u001b[0m 3ms/step - accuracy: 0.7681 - loss: 0.5561 - val_accuracy: 0.7157 - val_loss: 0.6349\n",
            "Epoch 11/15\n",
            "\u001b[1m26/26\u001b[0m \u001b[32m━━━━━━━━━━━━━━━━━━━━\u001b[0m\u001b[37m\u001b[0m \u001b[1m0s\u001b[0m 3ms/step - accuracy: 0.7558 - loss: 0.5169 - val_accuracy: 0.7108 - val_loss: 0.6084\n",
            "Epoch 12/15\n",
            "\u001b[1m26/26\u001b[0m \u001b[32m━━━━━━━━━━━━━━━━━━━━\u001b[0m\u001b[37m\u001b[0m \u001b[1m0s\u001b[0m 3ms/step - accuracy: 0.7933 - loss: 0.5018 - val_accuracy: 0.7402 - val_loss: 0.6002\n",
            "Epoch 13/15\n",
            "\u001b[1m26/26\u001b[0m \u001b[32m━━━━━━━━━━━━━━━━━━━━\u001b[0m\u001b[37m\u001b[0m \u001b[1m0s\u001b[0m 3ms/step - accuracy: 0.8266 - loss: 0.4701 - val_accuracy: 0.7206 - val_loss: 0.5694\n",
            "Epoch 14/15\n",
            "\u001b[1m26/26\u001b[0m \u001b[32m━━━━━━━━━━━━━━━━━━━━\u001b[0m\u001b[37m\u001b[0m \u001b[1m0s\u001b[0m 3ms/step - accuracy: 0.8413 - loss: 0.4297 - val_accuracy: 0.7402 - val_loss: 0.5644\n",
            "Epoch 15/15\n",
            "\u001b[1m26/26\u001b[0m \u001b[32m━━━━━━━━━━━━━━━━━━━━\u001b[0m\u001b[37m\u001b[0m \u001b[1m0s\u001b[0m 3ms/step - accuracy: 0.8706 - loss: 0.3884 - val_accuracy: 0.7647 - val_loss: 0.5418\n",
            "\u001b[1m8/8\u001b[0m \u001b[32m━━━━━━━━━━━━━━━━━━━━\u001b[0m\u001b[37m\u001b[0m \u001b[1m0s\u001b[0m 59ms/step - accuracy: 0.8299 - loss: 0.4663\n",
            "Test Loss: 0.4536764323711395\n",
            "Test Accuracy: 0.8352941274642944\n",
            "\u001b[1m1/1\u001b[0m \u001b[32m━━━━━━━━━━━━━━━━━━━━\u001b[0m\u001b[37m\u001b[0m \u001b[1m0s\u001b[0m 194ms/step\n",
            "Predicted Category: Moderada\n",
            "Probabilities: [0.01824764 0.74256176 0.23919058]\n"
          ]
        }
      ],
      "source": [
        "# Import required libraries\n",
        "import tensorflow as tf\n",
        "from tensorflow.keras.utils import to_categorical\n",
        "from tensorflow.keras.preprocessing.text import Tokenizer\n",
        "from tensorflow.keras.preprocessing.sequence import pad_sequences\n",
        "from sklearn.model_selection import train_test_split\n",
        "import pandas as pd\n",
        "\n",
        "# Load the dataset\n",
        "file_path = 'https://docs.google.com/spreadsheets/d/1yhA6DEStLdrOy4ZWppEMynCUgy6XfPBXkY1cG_NQQ4I/export?format=csv'\n",
        "laptop_data = pd.read_csv(file_path)\n",
        "\n",
        "# Step 1: Define price categories\n",
        "def categorize_price(price):\n",
        "    if price < 700:\n",
        "        return 'Barata'\n",
        "    elif 700 <= price < 1500:\n",
        "        return 'Moderada'\n",
        "    else:\n",
        "        return 'Cara'\n",
        "\n",
        "# Apply categorization to the dataset\n",
        "laptop_data['Price_Category'] = laptop_data['Price_euros'].apply(categorize_price)\n",
        "\n",
        "# Step 2: Generate textual representation for each laptop\n",
        "laptop_data['Description'] = (\n",
        "    laptop_data['Company'] + \" \" + laptop_data['Product'] + \" \" +\n",
        "    laptop_data['TypeName'] + \", \" + laptop_data['Ram'].astype(str) + \"GB RAM, \" +\n",
        "    laptop_data['PrimaryStorageType'] + \", \" + laptop_data['CPU_model'] + \", \" +\n",
        "    laptop_data['GPU_model']\n",
        ")\n",
        "\n",
        "# Step 3: Preprocess the data for the neural network\n",
        "# Split data into training and test sets\n",
        "X = laptop_data['Description']\n",
        "y = laptop_data['Price_Category']\n",
        "\n",
        "# Map price categories to numerical values\n",
        "category_to_id = {'Barata': 0, 'Moderada': 1, 'Cara': 2}\n",
        "y = y.map(category_to_id)\n",
        "\n",
        "# Convert labels to one-hot encoding\n",
        "y = to_categorical(y, num_classes=3)\n",
        "\n",
        "# Tokenize the text descriptions\n",
        "tokenizer = Tokenizer()\n",
        "tokenizer.fit_on_texts(X)\n",
        "X_seq = tokenizer.texts_to_sequences(X)\n",
        "\n",
        "# Pad sequences to the same length\n",
        "maxlen = 50\n",
        "X_padded = pad_sequences(X_seq, padding='post', maxlen=maxlen)\n",
        "\n",
        "# Split into training and testing sets\n",
        "X_train, X_test, y_train, y_test = train_test_split(X_padded, y, test_size=0.2, random_state=42)\n",
        "\n",
        "# Define the updated neural network model\n",
        "model = tf.keras.Sequential([\n",
        "    tf.keras.layers.Embedding(input_dim=len(tokenizer.word_index)+1, output_dim=32, input_length=maxlen),\n",
        "    tf.keras.layers.GlobalAveragePooling1D(),\n",
        "    tf.keras.layers.Dense(32, activation='relu'),\n",
        "    tf.keras.layers.Dense(3, activation='softmax')  # 3 categories: Barata, Moderada, Cara\n",
        "])\n",
        "\n",
        "# Compile the model\n",
        "model.compile(optimizer='adam',\n",
        "              loss='categorical_crossentropy',\n",
        "              metrics=['accuracy'])\n",
        "\n",
        "# Train the model\n",
        "history = model.fit(X_train, y_train, epochs=15, batch_size=32, validation_split=0.2)\n",
        "\n",
        "# Evaluate the model on the test set\n",
        "test_loss, test_accuracy = model.evaluate(X_test, y_test)\n",
        "print(f\"Test Loss: {test_loss}\")\n",
        "print(f\"Test Accuracy: {test_accuracy}\")\n",
        "\n",
        "# Prediction function\n",
        "def predict_laptop(description):\n",
        "    seq = tokenizer.texts_to_sequences([description])\n",
        "    padded = pad_sequences(seq, padding='post', maxlen=maxlen)\n",
        "    pred_prob = model.predict(padded)\n",
        "    category_id = pred_prob.argmax(axis=-1)[0]\n",
        "    id_to_category = {0: 'Barata', 1: 'Moderada', 2: 'Cara'}\n",
        "    return id_to_category[category_id], pred_prob[0]\n",
        "\n",
        "# Example predictions\n",
        "example_description = \"Dell Inspiron Notebook, 16GB RAM, SSD, Core i7, NVIDIA GTX 1050\"\n",
        "category, probabilities = predict_laptop(example_description)\n",
        "print(f\"Predicted Category: {category}\")\n",
        "print(f\"Probabilities: {probabilities}\")\n"
      ]
    }
  ]
}